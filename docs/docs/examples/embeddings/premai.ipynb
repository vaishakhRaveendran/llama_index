{
 "cells": [
  {
   "cell_type": "markdown",
   "metadata": {},
   "source": [
    "<a href=\"https://colab.research.google.com/drive/176IfpC2akqWOhDpVSnAA_eLEbzt4a5Fw?usp=sharing\" target=\"_parent\"><img src=\"https://colab.research.google.com/assets/colab-badge.svg\" alt=\"Open In Colab\"/></a>"
   ]
  },
  {
   "cell_type": "markdown",
   "metadata": {},
   "source": [
    "# PremAI Embeddings\n",
    "\n",
    ">[PremAI](https://app.premai.io) is an unified platform that let's you build powerful production-ready GenAI powered applications with least effort, so that you can focus more on user experience and overall growth. \n",
    "\n",
    "\n",
    "In this section we are going to dicuss how we can get access to different embedding model using `PremEmbeddings` with llama-index"
   ]
  },
  {
   "cell_type": "markdown",
   "metadata": {},
   "source": [
    "## Installation and setup\n",
    "\n",
    "We start by installing llama-index and premai-sdk. You can type the following command to install:\n",
    "\n",
    "```bash\n",
    "pip install premai llama-index\n",
    "```\n",
    "\n",
    "Before proceeding further, please make sure that you have made an account on Prem and already started a project. If not, then here's how you can start for free:\n",
    "\n",
    "1. Sign in to [PremAI](https://app.premai.io/accounts/login/), if you are coming for the first time and create your API key [here](https://app.premai.io/api_keys/).\n",
    "\n",
    "2. Go to [app.premai.io](https://app.premai.io) and this will take you to the project's dashboard. \n",
    "\n",
    "3. Create a project and this will generate a project-id (written as ID). This ID will help you to interact with your deployed application. \n",
    "\n",
    "Congratulations on creating your first deployed application on Prem 🎉 Now we can use langchain to interact with our application. "
   ]
  },
  {
   "cell_type": "code",
   "execution_count": null,
   "metadata": {},
   "outputs": [],
   "source": [
    "%pip install llama-index-llms-premai"
   ]
  },
  {
   "cell_type": "code",
   "execution_count": null,
   "metadata": {},
   "outputs": [],
   "source": [
    "from llama_index.embeddings.premai import PremAIEmbeddings"
   ]
  },
  {
   "cell_type": "markdown",
   "metadata": {},
   "source": [
    "## Setup PremAIEmbeddings instance in LlamaIndex \n",
    "\n",
    "Once we imported our required modules, let's setup our client. For now let's assume that our `project_id` is `8`. But make sure you use your project-id, otherwise it will throw error. In case of embeddings you also have to additionally pass `model`. Here are the list of available models on PremAI.\n",
    "\n",
    "| Provider    | Slug                                     | Context Tokens |\n",
    "|-------------|------------------------------------------|----------------|\n",
    "| cohere      | embed-english-v3.0                       | N/A            |\n",
    "| openai      | text-embedding-3-small                   | 8191           |\n",
    "| openai      | text-embedding-3-large                   | 8191           |\n",
    "| openai      | text-embedding-ada-002                   | 8191           |\n",
    "| replicate   | replicate/all-mpnet-base-v2              | N/A            |\n",
    "| together    | togethercomputer/Llama-2-7B-32K-Instruct | N/A            |\n",
    "| mistralai   | mistral-embed                            | 4096           |\n",
    "\n",
    "To change the model, you simply need to copy the `slug` and access your embedding model."
   ]
  },
  {
   "cell_type": "code",
   "execution_count": null,
   "metadata": {},
   "outputs": [],
   "source": [
    "import os\n",
    "import getpass\n",
    "\n",
    "if os.environ.get(\"PREMAI_API_KEY\") is None:\n",
    "    os.environ[\"PREMAI_API_KEY\"] = getpass.getpass(\"PremAI API Key:\")\n",
    "\n",
    "prem_embedding = PremAIEmbeddings(\n",
    "    project_id=8, model_name=\"text-embedding-3-large\"\n",
    ")"
   ]
  },
  {
   "cell_type": "markdown",
   "metadata": {},
   "source": [
    "## Calling the Embedding Model\n",
    "\n",
    "Now you are all set. Now let's start using our embedding model with a single query followed by multiple queries (which is also called as a document)"
   ]
  },
  {
   "cell_type": "code",
   "execution_count": null,
   "metadata": {},
   "outputs": [],
   "source": [
    "query = \"Hello, this is a test query\"\n",
    "query_result = prem_embedding.get_text_embedding(query)"
   ]
  },
  {
   "cell_type": "code",
   "execution_count": null,
   "metadata": {},
   "outputs": [
    {
     "name": "stdout",
     "output_type": "stream",
     "text": [
      "Dimension of embeddings: 3072\n"
     ]
    }
   ],
   "source": [
    "print(f\"Dimension of embeddings: {len(query_result)}\")"
   ]
  },
  {
   "cell_type": "code",
   "execution_count": null,
   "metadata": {},
   "outputs": [
    {
     "data": {
      "text/plain": [
       "[-0.02129288576543331,\n",
       " 0.0008162345038726926,\n",
       " -0.004556538071483374,\n",
       " 0.02918623760342598,\n",
       " -0.02547479420900345]"
      ]
     },
     "execution_count": null,
     "metadata": {},
     "output_type": "execute_result"
    }
   ],
   "source": [
    "query_result[:5]"
   ]
  }
 ],
 "metadata": {
  "kernelspec": {
   "display_name": "venv",
   "language": "python",
   "name": "python3"
  },
  "language_info": {
   "codemirror_mode": {
    "name": "ipython",
    "version": 3
   },
   "file_extension": ".py",
   "mimetype": "text/x-python",
   "name": "python",
   "nbconvert_exporter": "python",
   "pygments_lexer": "ipython3"
  }
 },
 "nbformat": 4,
 "nbformat_minor": 2
}
