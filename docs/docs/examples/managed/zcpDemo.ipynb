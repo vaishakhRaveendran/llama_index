{
 "cells": [
  {
   "cell_type": "markdown",
   "id": "adf7d63d",
   "metadata": {},
   "source": [
    "<a href=\"https://colab.research.google.com/github/jerryjliu/llama_index/blob/main/docs/docs/examples/managed/vectaraDemo.ipynb\" target=\"_parent\"><img src=\"https://colab.research.google.com/assets/colab-badge.svg\" alt=\"Open In Colab\"/></a>"
   ]
  },
  {
   "cell_type": "markdown",
   "id": "db0855d0",
   "metadata": {},
   "source": [
    "# Managed Index with Zilliz Cloud Pipelines\n",
    "\n",
    "[Zilliz Cloud Pipelines](https://docs.zilliz.com/docs/pipelines) is a scalable API service for retrieval. You can use Zilliz Cloud Pipelines as managed index in `llama-index`. This service can transform documents into vector embeddings and store them in Zilliz Cloud for effective semantic search.\n",
    "\n",
    "## Setup\n",
    "\n",
    "1. Install llama-index dependencies"
   ]
  },
  {
   "cell_type": "code",
   "execution_count": null,
   "id": "e2687241",
   "metadata": {},
   "outputs": [],
   "source": [
    "%pip install llama-index-indices-managed-zilliz"
   ]
  },
  {
   "cell_type": "code",
   "execution_count": null,
   "id": "6019e01a",
   "metadata": {},
   "outputs": [],
   "source": [
    "%pip install llama-index"
   ]
  },
  {
   "cell_type": "markdown",
   "id": "3fc94b2f",
   "metadata": {},
   "source": [
    "2. Configure credentials of your [Zilliz Cloud](https://cloud.zilliz.com/signup?utm_source=twitter&utm_medium=social%20&utm_campaign=2023-12-22_social_pipeline-llamaindex_twitter) accounts."
   ]
  },
  {
   "cell_type": "code",
   "execution_count": null,
   "id": "c2d1c538",
   "metadata": {},
   "outputs": [],
   "source": [
    "from getpass import getpass\n",
    "\n",
    "ZILLIZ_PROJECT_ID = getpass(\"Enter your Zilliz Project ID:\")\n",
    "ZILLIZ_CLUSTER_ID = getpass(\"Enter your Zilliz Cluster ID:\")\n",
    "ZILLIZ_TOKEN = getpass(\"Enter your Zilliz API Key:\")"
   ]
  },
  {
   "cell_type": "markdown",
   "id": "200b4fe0",
   "metadata": {},
   "source": [
    "> [Find your OpenAI API key](https://beta.openai.com/account/api-keys)\n",
    ">\n",
    "> [Find your Zilliz Cloud credentials](https://docs.zilliz.com/docs/on-zilliz-cloud-console)"
   ]
  },
  {
   "cell_type": "markdown",
   "id": "5d3c5b5f",
   "metadata": {},
   "source": [
    "## Indexing documents\n",
    "\n",
    "> It is optional to add metadata for each document. The metadata can be used to filter doc data during retrieval.\n",
    "\n",
    "### From Signed URL\n",
    "\n",
    "Zilliz Cloud Pipelines accepts files from AWS S3 and Google Cloud Storage. You can generate a presigned url from the Object Storage and use `from_document_url()` to ingest the file. It can automatically index the document and store the doc chunks as vectors on Zilliz Cloud."
   ]
  },
  {
   "cell_type": "code",
   "execution_count": null,
   "id": "f08ed6de",
   "metadata": {},
   "outputs": [
    {
     "name": "stdout",
     "output_type": "stream",
     "text": [
      "{'INGESTION': 'pipe-d639f220f27320e2e381de', 'SEARCH': 'pipe-47bd43fe8fd54502874a08', 'DELETION': 'pipe-bd434c99e064282f1a28e8'}\n"
     ]
    }
   ],
   "source": [
    "from llama_index.indices.managed.zilliz import ZillizCloudPipelineIndex\n",
    "\n",
    "# Create pipelines: skip this step if you have prepared valid pipelines\n",
    "pipeline_ids = ZillizCloudPipelineIndex.create_pipelines(\n",
    "    project_id=ZILLIZ_PROJECT_ID,\n",
    "    cluster_id=ZILLIZ_CLUSTER_ID,\n",
    "    api_key=ZILLIZ_TOKEN,\n",
    "    data_type=\"doc\",\n",
    "    collection_name=\"zcp_llamalection_doc\",  # change this value will customize collection name\n",
    "    metadata_schema={\"user_id\": \"VarChar\"},\n",
    ")\n",
    "print(pipeline_ids)"
   ]
  },
  {
   "cell_type": "code",
   "execution_count": null,
   "id": "97d5c934",
   "metadata": {},
   "outputs": [],
   "source": [
    "zcp_doc_index = ZillizCloudPipelineIndex.from_document_url(\n",
    "    # a public or pre-signed url of a file stored on AWS S3 or Google Cloud Storage\n",
    "    url=\"https://publicdataset.zillizcloud.com/milvus_doc.md\",\n",
    "    pipeline_ids=pipeline_ids,\n",
    "    api_key=ZILLIZ_TOKEN,\n",
    "    metadata={\n",
    "        \"user_id\": \"user-001\"\n",
    "    },  # optional, which can be used for filtering\n",
    ")\n",
    "\n",
    "# # Delete docs by doc name\n",
    "# zcp_doc_index.delete_by_expression(expression=\"doc_name == 'milvus_doc_22.md'\")"
   ]
  },
  {
   "cell_type": "markdown",
   "id": "d16a498e",
   "metadata": {},
   "source": [
    "### From Document Nodes\n",
    "\n",
    "Zilliz Cloud Pipelines support text as data input as well. The following example prepares data with a sample document node."
   ]
  },
  {
   "cell_type": "code",
   "execution_count": null,
   "id": "904b6cce",
   "metadata": {},
   "outputs": [
    {
     "name": "stdout",
     "output_type": "stream",
     "text": [
      "{'INGESTION': 'pipe-2bbab10f273a57eb987024', 'SEARCH': 'pipe-e1914a072ec5e6f83e446a', 'DELETION': 'pipe-72bbabf273a51af0b0c447'}\n"
     ]
    }
   ],
   "source": [
    "from llama_index.core import Document\n",
    "from llama_index.indices.managed.zilliz import ZillizCloudPipelineIndex\n",
    "\n",
    "# prepare documents\n",
    "documents = [Document(text=\"The number that is being searched for is ten.\")]\n",
    "\n",
    "# create pipelines: skip this step if you have prepared valid pipelines\n",
    "pipeline_ids = ZillizCloudPipelineIndex.create_pipelines(\n",
    "    project_id=ZILLIZ_PROJECT_ID,\n",
    "    cluster_id=ZILLIZ_CLUSTER_ID,\n",
    "    api_key=ZILLIZ_TOKEN,\n",
    "    data_type=\"text\",\n",
    "    collection_name=\"zcp_llamalection_text\",  # change this value will customize collection name\n",
    ")\n",
    "print(pipeline_ids)"
   ]
  },
  {
   "cell_type": "code",
   "execution_count": null,
   "id": "2d06a204",
   "metadata": {},
   "outputs": [],
   "source": [
    "zcp_text_index = ZillizCloudPipelineIndex.from_documents(\n",
    "    # a public or pre-signed url of a file stored on AWS S3 or Google Cloud Storage\n",
    "    documents=documents,\n",
    "    pipeline_ids=pipeline_ids,\n",
    "    api_key=ZILLIZ_TOKEN,\n",
    ")"
   ]
  },
  {
   "cell_type": "markdown",
   "id": "c94365ab",
   "metadata": {},
   "source": [
    "## Working as Query Engine\n",
    "\n",
    "To conduct semantic search with `ZillizCloudPipelineIndex`, you can use it `as_query_engine()` by specifying a few parameters:\n",
    "- **search_top_k**: How many text nodes/chunks to retrieve. Optional, defaults to `DEFAULT_SIMILARITY_TOP_K` (2).\n",
    "- **filters**: Metadata filters. Optional, defaults to None.\n",
    "- **output_metadata**: What metadata fields to return with the retrieved text node. Optional, defaults to []."
   ]
  },
  {
   "cell_type": "code",
   "execution_count": null,
   "id": "d9bc0343",
   "metadata": {},
   "outputs": [],
   "source": [
    "import os\n",
    "\n",
    "os.environ[\"OPENAI_API_KEY\"] = getpass(\"Enter your OpenAI API Key:\")"
   ]
  },
  {
   "cell_type": "code",
   "execution_count": null,
   "id": "dafda7a1",
   "metadata": {},
   "outputs": [],
   "source": [
    "query_engine = zcp_doc_index.as_query_engine(search_top_k=3)"
   ]
  },
  {
   "cell_type": "markdown",
   "id": "9803232e",
   "metadata": {},
   "source": [
    "Then the query engine is ready for Semantic Search or Retrieval Augmented Generation with Milvus 2.3 documents:\n",
    "\n",
    "- **Retrieve** (Semantic search powered by Zilliz Cloud Pipelines):"
   ]
  },
  {
   "cell_type": "code",
   "execution_count": null,
   "id": "8ab92af7",
   "metadata": {},
   "outputs": [
    {
     "name": "stdout",
     "output_type": "stream",
     "text": [
      "[NodeWithScore(node=TextNode(id_='449755997496672548', embedding=None, metadata={}, excluded_embed_metadata_keys=[], excluded_llm_metadata_keys=[], relationships={}, text='# Delete Entities\\nThis topic describes how to delete entities in Milvus.  \\nMilvus supports deleting entities by primary key or complex boolean expressions. Deleting entities by primary key is much faster and lighter than deleting them by complex boolean expressions. This is because Milvus executes queries first when deleting data by complex boolean expressions.  \\nDeleted entities can still be retrieved immediately after the deletion if the consistency level is set lower than Strong.\\nEntities deleted beyond the pre-specified span of time for Time Travel cannot be retrieved again.\\nFrequent deletion operations will impact the system performance.  \\nBefore deleting entities by comlpex boolean expressions, make sure the collection has been loaded.\\nDeleting entities by complex boolean expressions is not an atomic operation. Therefore, if it fails halfway through, some data may still be deleted.\\nDeleting entities by complex boolean expressions is supported only when the consistency is set to Bounded. For details, see Consistency.\\\\\\n\\\\\\n# Delete Entities\\n## Prepare boolean expression\\nPrepare the boolean expression that filters the entities to delete.  \\nMilvus supports deleting entities by primary key or complex boolean expressions. For more information on expression rules and supported operators, see Boolean Expression Rules.\\\\\\n\\\\\\n# Delete Entities\\n## Prepare boolean expression\\n### Simple boolean expression\\nUse a simple expression to filter data with primary key values of 0 and 1:  \\n```python\\nexpr = \"book_id in [0,1]\"\\n```\\\\\\n\\\\\\n# Delete Entities\\n## Prepare boolean expression\\n### Complex boolean expression\\nTo filter entities that meet specific conditions, define complex boolean expressions.  \\nFilter entities whose word_count is greater than or equal to 11000:  \\n```python\\nexpr = \"word_count >= 11000\"\\n```  \\nFilter entities whose book_name is not Unknown:  \\n```python\\nexpr = \"book_name != Unknown\"\\n```  \\nFilter entities whose primary key values are greater than 5 and word_count is smaller than or equal to 9999:  \\n```python\\nexpr = \"book_id > 5 && word_count <= 9999\"\\n```', start_char_idx=None, end_char_idx=None, text_template='{metadata_str}\\n\\n{content}', metadata_template='{key}: {value}', metadata_seperator='\\n'), score=0.742070198059082), NodeWithScore(node=TextNode(id_='449755997496672549', embedding=None, metadata={}, excluded_embed_metadata_keys=[], excluded_llm_metadata_keys=[], relationships={}, text='# Delete Entities\\n## Delete entities\\nDelete the entities with the boolean expression you created. Milvus returns the ID list of the deleted entities.\\n```python\\nfrom pymilvus import Collection\\ncollection = Collection(\"book\")      # Get an existing collection.\\ncollection.delete(expr)\\n```  \\nParameter\\tDescription\\nexpr\\tBoolean expression that specifies the entities to delete.\\npartition_name (optional)\\tName of the partition to delete entities from.\\\\\\n\\\\\\n# Upsert Entities\\nThis topic describes how to upsert entities in Milvus.  \\nUpserting is a combination of insert and delete operations. In the context of a Milvus vector database, an upsert is a data-level operation that will overwrite an existing entity if a specified field already exists in a collection, and insert a new entity if the specified value doesn’t already exist.  \\nThe following example upserts 3,000 rows of randomly generated data as the example data. When performing upsert operations, it\\'s important to note that the operation may compromise performance. This is because the operation involves deleting data during execution.\\\\\\n\\\\\\n# Upsert Entities\\n## Prepare data\\nFirst, prepare the data to upsert. The type of data to upsert must match the schema of the collection, otherwise Milvus will raise an exception.  \\nMilvus supports default values for scalar fields, excluding a primary key field. This indicates that some fields can be left empty during data inserts or upserts. For more information, refer to Create a Collection.  \\n```python\\n# Generate data to upsert\\n\\nimport random\\nnb = 3000\\ndim = 8\\nvectors = [[random.random() for _ in range(dim)] for _ in range(nb)]\\ndata = [\\n[i for i in range(nb)],\\n[str(i) for i in range(nb)],\\n[i for i in range(10000, 10000+nb)],\\nvectors,\\n[str(\"dy\"*i) for i in range(nb)]\\n]\\n```', start_char_idx=None, end_char_idx=None, text_template='{metadata_str}\\n\\n{content}', metadata_template='{key}: {value}', metadata_seperator='\\n'), score=0.6409814953804016), NodeWithScore(node=TextNode(id_='449755997496672550', embedding=None, metadata={}, excluded_embed_metadata_keys=[], excluded_llm_metadata_keys=[], relationships={}, text='# Upsert Entities\\n## Upsert data\\nUpsert the data to the collection.  \\n```python\\nfrom pymilvus import Collection\\ncollection = Collection(\"book\") # Get an existing collection.\\nmr = collection.upsert(data)\\n```  \\nParameter\\tDescription\\ndata\\tData to upsert into Milvus.\\npartition_name (optional)\\tName of the partition to upsert data into.\\ntimeout (optional)\\tAn optional duration of time in seconds to allow for the RPC. If it is set to None, the client keeps waiting until the server responds or error occurs.\\nAfter upserting entities into a collection that has previously been indexed, you do not need to re-index the collection, as Milvus will automatically create an index for the newly upserted data. For more information, refer to Can indexes be created after inserting vectors?\\\\\\n\\\\\\n# Upsert Entities\\n## Flush data\\nWhen data is upserted into Milvus it is updated and inserted into segments. Segments have to reach a certain size to be sealed and indexed. Unsealed segments will be searched brute force. In order to avoid this with any remainder data, it is best to call flush(). The flush() call will seal any remaining segments and send them for indexing. It is important to only call this method at the end of an upsert session. Calling it too often will cause fragmented data that will need to be cleaned later on.\\\\\\n\\\\\\n# Upsert Entities\\n## Limits\\nUpdating primary key fields is not supported by upsert().\\nupsert() is not applicable and an error can occur if autoID is set to True for primary key fields.', start_char_idx=None, end_char_idx=None, text_template='{metadata_str}\\n\\n{content}', metadata_template='{key}: {value}', metadata_seperator='\\n'), score=0.5456743240356445)]\n"
     ]
    }
   ],
   "source": [
    "question = \"Can users delete entities by filtering non-primary fields?\"\n",
    "retrieved_nodes = query_engine.retrieve(question)\n",
    "print(retrieved_nodes)"
   ]
  },
  {
   "cell_type": "markdown",
   "id": "e91c5896",
   "metadata": {},
   "source": [
    "- **Query** (RAG powered by Zilliz Cloud Pipelines as retriever and OpenAI's LLM):"
   ]
  },
  {
   "cell_type": "code",
   "execution_count": null,
   "id": "fc7b01b7",
   "metadata": {},
   "outputs": [
    {
     "name": "stdout",
     "output_type": "stream",
     "text": [
      "Users can delete entities by filtering non-primary fields using complex boolean expressions in Milvus.\n"
     ]
    }
   ],
   "source": [
    "response = query_engine.query(question)\n",
    "print(response.response)"
   ]
  },
  {
   "cell_type": "markdown",
   "id": "a6efa3b9",
   "metadata": {},
   "source": [
    "## Multi-Tenancy\n",
    "\n",
    "With the tenant-specific value (eg. user id) as metadata, the managed index is able to achieve multi-tenancy by applying metadata filters.\n",
    "\n",
    "By specifying metadata value, each document is tagged with the tenant-specific field at ingestion."
   ]
  },
  {
   "cell_type": "code",
   "execution_count": null,
   "id": "5ddd53a6",
   "metadata": {},
   "outputs": [
    {
     "data": {
      "text/plain": [
       "{'token_usage': 984, 'doc_name': 'milvus_doc_22.md', 'num_chunks': 3}"
      ]
     },
     "execution_count": null,
     "metadata": {},
     "output_type": "execute_result"
    }
   ],
   "source": [
    "zcp_doc_index._insert_doc_url(\n",
    "    url=\"https://publicdataset.zillizcloud.com/milvus_doc_22.md\",\n",
    "    metadata={\"user_id\": \"user_002\"},\n",
    ")"
   ]
  },
  {
   "cell_type": "markdown",
   "id": "62a88e50",
   "metadata": {},
   "source": [
    "Then the managed index is able to build a query engine for each tenant by filtering the tenant-specific field."
   ]
  },
  {
   "cell_type": "code",
   "execution_count": null,
   "id": "6e684e22",
   "metadata": {},
   "outputs": [],
   "source": [
    "from llama_index.core.vector_stores import ExactMatchFilter, MetadataFilters\n",
    "\n",
    "query_engine_for_user_002 = zcp_doc_index.as_query_engine(\n",
    "    search_top_k=3,\n",
    "    filters=MetadataFilters(\n",
    "        filters=[ExactMatchFilter(key=\"user_id\", value=\"user_002\")]\n",
    "    ),\n",
    "    output_metadata=[\"user_id\"],  # optional, display user_id in outputs\n",
    ")"
   ]
  },
  {
   "cell_type": "markdown",
   "id": "eae76dea",
   "metadata": {},
   "source": [
    "> Change `filters` to build query engines with different conditions."
   ]
  },
  {
   "cell_type": "code",
   "execution_count": null,
   "id": "ea6899f9",
   "metadata": {},
   "outputs": [
    {
     "name": "stdout",
     "output_type": "stream",
     "text": [
      "Milvus only supports deleting entities by primary key filtered with boolean expressions. Other operators can be used only in query or scalar filtering in vector search.\n"
     ]
    }
   ],
   "source": [
    "question = \"Can I delete entities by filtering non-primary fields?\"\n",
    "\n",
    "# search_results = query_engine_for_user_002.retrieve(question)\n",
    "response = query_engine_for_user_002.query(question)\n",
    "print(response.response)"
   ]
  }
 ],
 "metadata": {
  "kernelspec": {
   "display_name": "Python 3 (ipykernel)",
   "language": "python",
   "name": "python3"
  },
  "language_info": {
   "codemirror_mode": {
    "name": "ipython",
    "version": 3
   },
   "file_extension": ".py",
   "mimetype": "text/x-python",
   "name": "python",
   "nbconvert_exporter": "python",
   "pygments_lexer": "ipython3"
  }
 },
 "nbformat": 4,
 "nbformat_minor": 5
}
