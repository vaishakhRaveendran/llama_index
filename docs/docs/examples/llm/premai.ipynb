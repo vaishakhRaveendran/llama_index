{
 "cells": [
  {
   "cell_type": "markdown",
   "metadata": {},
   "source": [
    "<a href=\"https://colab.research.google.com/drive/1F0V_eClPOpS_2HIW-F2mCivgqBfFo2TR?usp=sharing\" target=\"_parent\"><img src=\"https://colab.research.google.com/assets/colab-badge.svg\" alt=\"Open In Colab\"/></a>"
   ]
  },
  {
   "cell_type": "markdown",
   "metadata": {},
   "source": [
    "# PremAI LlamaIndex\n",
    "\n",
    ">[PremAI](https://app.premai.io) is an unified platform that let's you build powerful production-ready GenAI powered applications with least effort, so that you can focus more on user experience and overall growth. \n",
    "\n",
    "\n",
    "This example goes over how to use LlamaIndex to interact with `ChatPrem` models. "
   ]
  },
  {
   "cell_type": "markdown",
   "metadata": {},
   "source": [
    "## Installation and setup\n",
    "\n",
    "We start by installing llama-index and premai-sdk. You can type the following command to install:\n",
    "\n",
    "```bash\n",
    "pip install premai llama-index\n",
    "```\n",
    "\n",
    "Before proceeding further, please make sure that you have made an account on Prem and already started a project. If not, then here's how you can start for free:\n",
    "\n",
    "1. Sign in to [PremAI](https://app.premai.io/accounts/login/), if you are coming for the first time and create your API key [here](https://app.premai.io/api_keys/).\n",
    "\n",
    "2. Go to [app.premai.io](https://app.premai.io) and this will take you to the project's dashboard. \n",
    "\n",
    "3. Create a project and this will generate a project-id (written as ID). This ID will help you to interact with your deployed application. \n",
    "\n",
    "4. Head over to LaunchPad (the one with 🚀 icon). And there deploy your model of choice. Your default model will be `gpt-4`. You can also set and fix different generation paramters (like: max-tokens, temperature etc) and also pre-set your system prompt. \n",
    "\n",
    "Congratulations on creating your first deployed application on Prem 🎉 Now we can use llama-index to interact with our application. "
   ]
  },
  {
   "cell_type": "code",
   "execution_count": null,
   "metadata": {},
   "outputs": [],
   "source": [
    "%pip install llama-index-llms-premai"
   ]
  },
  {
   "cell_type": "code",
   "execution_count": null,
   "metadata": {},
   "outputs": [],
   "source": [
    "from llama_index.llms.premai import PremAI\n",
    "from llama_index.core.llms import ChatMessage"
   ]
  },
  {
   "cell_type": "markdown",
   "metadata": {},
   "source": [
    "## Setup ChatPrem instance in LlamaIndex \n",
    "\n",
    "Once we imported our required modules, let's setup our client. For now let's assume that our `project_id` is `8`. But make sure you use your project-id, otherwise it will throw error.\n",
    "\n",
    "In order to use llama-index with PremAI, you do not need to pass any model name or set any parameters with our chat-client. All of those will use the default model name and paramters of the LaunchPad model. \n",
    "\n",
    "`NOTE:` If you change the `model` or any other parameter like `temperature` while setting the client, it will override existing default configurations. "
   ]
  },
  {
   "cell_type": "code",
   "execution_count": null,
   "metadata": {},
   "outputs": [],
   "source": [
    "import os\n",
    "import getpass\n",
    "\n",
    "if os.environ.get(\"PREMAI_API_KEY\") is None:\n",
    "    os.environ[\"PREMAI_API_KEY\"] = getpass.getpass(\"PremAI API Key:\")\n",
    "\n",
    "prem_chat = PremAI(project_id=8)"
   ]
  },
  {
   "cell_type": "markdown",
   "metadata": {},
   "source": [
    "## Calling the Model\n",
    "\n",
    "Now you are all set. We can now start with interacting with our application. Let's start by building simple chat request and responses using llama-index"
   ]
  },
  {
   "cell_type": "code",
   "execution_count": null,
   "metadata": {},
   "outputs": [],
   "source": [
    "messages = [\n",
    "    ChatMessage(role=\"user\", content=\"What is your name\"),\n",
    "    ChatMessage(\n",
    "        role=\"user\", content=\"Write an essay about your school in 500 words\"\n",
    "    ),\n",
    "]"
   ]
  },
  {
   "cell_type": "markdown",
   "metadata": {},
   "source": [
    "Please note that: You can provide system prompt here too, like this:\n",
    "\n",
    "```python\n",
    "messages = [\n",
    "    ChatMessage(role=\"system\", content=\"Act like a pirate\"),\n",
    "    ChatMessage(role=\"user\", content=\"What is your name\"),\n",
    "    ChatMessage(role=\"user\", content=\"Where do you live, write an essay in 500 words\"),\n",
    "]\n",
    "```\n",
    "\n",
    "On the other hand you can also instantiate your object with system prompt like this:\n",
    "\n",
    "```python\n",
    "chat = PremAI(project_id=8, system_prompt=\"Act like nemo fish\")\n",
    "```\n",
    "\n",
    "In both of the scenarios, you are going to override your system prompt that was fixed while deploying the application from the platform. And, specifically in this case, if you override system prompt while instantiating the `PremAI` class then system message in `ChatMessage` won't provide any affect. \n",
    "\n",
    "So if you want to override system prompt for any experimental cases, either you need to provide that while instantiating the class or while writing `ChatMessage` with a role `system`. \n",
    "\n",
    "\n",
    "Now let's call the model"
   ]
  },
  {
   "cell_type": "code",
   "execution_count": null,
   "metadata": {},
   "outputs": [
    {
     "name": "stdout",
     "output_type": "stream",
     "text": [
      "[ChatResponse(message=ChatMessage(role=<MessageRole.ASSISTANT: 'assistant'>, content=\"I'm here to assist you with any questions or tasks you have, but I'm not able to write essays. However, if you need help brainstorming ideas or organizing your thoughts for your essay about your school, I'd be happy to help with that. Just let me know how I can assist you further!\", additional_kwargs={}), raw={'role': <RoleEnum.ASSISTANT: 'assistant'>, 'content': \"I'm here to assist you with any questions or tasks you have, but I'm not able to write essays. However, if you need help brainstorming ideas or organizing your thoughts for your essay about your school, I'd be happy to help with that. Just let me know how I can assist you further!\"}, delta=None, additional_kwargs={})]\n"
     ]
    }
   ],
   "source": [
    "response = prem_chat.chat(messages)\n",
    "print(response)"
   ]
  },
  {
   "cell_type": "markdown",
   "metadata": {},
   "source": [
    "You can also convert your chat function to a completion function. Here's how it works"
   ]
  },
  {
   "cell_type": "code",
   "execution_count": null,
   "metadata": {},
   "outputs": [],
   "source": [
    "completion = prem_chat.complete(\"Paul Graham is \")"
   ]
  },
  {
   "cell_type": "markdown",
   "metadata": {},
   "source": [
    "## Streaming \n",
    "\n",
    "In this section, let's see how we can stream tokens using llama-index and PremAI. It is very similar to above methos. Here's how you do it."
   ]
  },
  {
   "cell_type": "code",
   "execution_count": null,
   "metadata": {},
   "outputs": [
    {
     "name": "stdout",
     "output_type": "stream",
     "text": [
      "I'm here to assist you with writing tasks, but I don't have personal experiences or attend school. However, I can help you brainstorm ideas, outline your essay, or provide information on various school-related topics. Just let me know how I can assist you further!"
     ]
    }
   ],
   "source": [
    "streamed_response = prem_chat.stream_chat(messages)\n",
    "\n",
    "for response_delta in streamed_response:\n",
    "    print(response_delta.delta, end=\"\")"
   ]
  },
  {
   "cell_type": "markdown",
   "metadata": {},
   "source": [
    "And this will stream tokens one after the other. Similar to `complete` method, we have `stream_complete` method which does streaming of tokens for completion. Here's how do that."
   ]
  },
  {
   "cell_type": "code",
   "execution_count": null,
   "metadata": {},
   "outputs": [
    {
     "name": "stdout",
     "output_type": "stream",
     "text": [
      "Hello! I'm here and ready to assist you. How can I help you today?"
     ]
    }
   ],
   "source": [
    "# This will stream tokens one by one\n",
    "\n",
    "streamed_response = prem_chat.stream_complete(\"hello how are you\")\n",
    "\n",
    "for response_delta in streamed_response:\n",
    "    print(response_delta.delta, end=\"\")"
   ]
  }
 ],
 "metadata": {
  "kernelspec": {
   "display_name": "venv",
   "language": "python",
   "name": "python3"
  },
  "language_info": {
   "codemirror_mode": {
    "name": "ipython",
    "version": 3
   },
   "file_extension": ".py",
   "mimetype": "text/x-python",
   "name": "python",
   "nbconvert_exporter": "python",
   "pygments_lexer": "ipython3"
  }
 },
 "nbformat": 4,
 "nbformat_minor": 2
}
