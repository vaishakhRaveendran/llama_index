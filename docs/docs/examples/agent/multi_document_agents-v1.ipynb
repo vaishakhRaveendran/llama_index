{
 "cells": [
  {
   "attachments": {},
   "cell_type": "markdown",
   "id": "91c998a5",
   "metadata": {},
   "source": [
    "<a href=\"https://colab.research.google.com/github/run-llama/llama_index/blob/main/docs/docs/examples/agent/multi_document_agents-v1.ipynb\" target=\"_parent\"><img src=\"https://colab.research.google.com/assets/colab-badge.svg\" alt=\"Open In Colab\"/></a>"
   ]
  },
  {
   "cell_type": "markdown",
   "id": "43497beb-817d-4366-9156-f4d7f0d44942",
   "metadata": {},
   "source": [
    "# Multi-Document Agents (V1)\n",
    "\n",
    "In this guide, you learn towards setting up a multi-document agent over the LlamaIndex documentation.\n",
    "\n",
    "This is an extension of V0 multi-document agents with the additional features:\n",
    "- Reranking during document (tool) retrieval\n",
    "- Query planning tool that the agent can use to plan \n",
    "\n",
    "\n",
    "We do this with the following architecture:\n",
    "\n",
    "- setup a \"document agent\" over each Document: each doc agent can do QA/summarization within its doc\n",
    "- setup a top-level agent over this set of document agents. Do tool retrieval and then do CoT over the set of tools to answer a question."
   ]
  },
  {
   "attachments": {},
   "cell_type": "markdown",
   "id": "77ac7184",
   "metadata": {},
   "source": [
    "If you're opening this Notebook on colab, you will probably need to install LlamaIndex 🦙."
   ]
  },
  {
   "cell_type": "code",
   "execution_count": null,
   "id": "034a7661",
   "metadata": {},
   "outputs": [],
   "source": [
    "%pip install llama-index-core\n",
    "%pip install llama-index-agent-openai\n",
    "%pip install llama-index-readers-file\n",
    "%pip install llama-index-postprocessor-cohere-rerank\n",
    "%pip install llama-index-llms-openai\n",
    "%pip install llama-index-embeddings-openai\n",
    "%pip install unstructured[html]"
   ]
  },
  {
   "cell_type": "code",
   "execution_count": null,
   "id": "1f0e47ac-ec6d-48eb-93a3-0e1fcab22112",
   "metadata": {},
   "outputs": [],
   "source": [
    "%load_ext autoreload\n",
    "%autoreload 2"
   ]
  },
  {
   "cell_type": "markdown",
   "id": "9be00aba-b6c5-4940-9825-81c5d2cd2f0b",
   "metadata": {},
   "source": [
    "## Setup and Download Data\n",
    "\n",
    "In this section, we'll load in the LlamaIndex documentation."
   ]
  },
  {
   "cell_type": "code",
   "execution_count": null,
   "id": "49893d69-c106-4169-92c3-6b5b751066e9",
   "metadata": {},
   "outputs": [],
   "source": [
    "domain = \"docs.llamaindex.ai\"\n",
    "docs_url = \"https://docs.llamaindex.ai/en/latest/\"\n",
    "!wget -e robots=off --recursive --no-clobber --page-requisites --html-extension --convert-links --restrict-file-names=windows --domains {domain} --no-parent {docs_url}"
   ]
  },
  {
   "cell_type": "code",
   "execution_count": null,
   "id": "c661cb62-1e18-410c-bc2e-e707b66596a3",
   "metadata": {},
   "outputs": [],
   "source": [
    "from llama_index.readers.file import UnstructuredReader\n",
    "\n",
    "reader = UnstructuredReader()"
   ]
  },
  {
   "cell_type": "code",
   "execution_count": null,
   "id": "44feebd5-0430-4d73-9cb1-a3de73c1f13e",
   "metadata": {},
   "outputs": [],
   "source": [
    "from pathlib import Path\n",
    "\n",
    "all_files_gen = Path(\"./docs.llamaindex.ai/\").rglob(\"*\")\n",
    "all_files = [f.resolve() for f in all_files_gen]"
   ]
  },
  {
   "cell_type": "code",
   "execution_count": null,
   "id": "3d837b4b-130c-493c-b62e-6662904c20ca",
   "metadata": {},
   "outputs": [],
   "source": [
    "all_html_files = [f for f in all_files if f.suffix.lower() == \".html\"]"
   ]
  },
  {
   "cell_type": "code",
   "execution_count": null,
   "id": "3cddf0f5-3c5f-4d42-868d-54bedb12d02b",
   "metadata": {},
   "outputs": [
    {
     "data": {
      "text/plain": [
       "1219"
      ]
     },
     "execution_count": null,
     "metadata": {},
     "output_type": "execute_result"
    }
   ],
   "source": [
    "len(all_html_files)"
   ]
  },
  {
   "cell_type": "code",
   "execution_count": null,
   "id": "1a1dd0cf-5da2-4ac0-bfd1-8f48921518c5",
   "metadata": {},
   "outputs": [],
   "source": [
    "from llama_index.core import Document\n",
    "\n",
    "# TODO: set to higher value if you want more docs\n",
    "doc_limit = 100\n",
    "\n",
    "docs = []\n",
    "for idx, f in enumerate(all_html_files):\n",
    "    if idx > doc_limit:\n",
    "        break\n",
    "    print(f\"Idx {idx}/{len(all_html_files)}\")\n",
    "    loaded_docs = reader.load_data(file=f, split_documents=True)\n",
    "    # Hardcoded Index. Everything before this is ToC for all pages\n",
    "    start_idx = 72\n",
    "    loaded_doc = Document(\n",
    "        text=\"\\n\\n\".join([d.get_content() for d in loaded_docs[72:]]),\n",
    "        metadata={\"path\": str(f)},\n",
    "    )\n",
    "    print(loaded_doc.metadata[\"path\"])\n",
    "    docs.append(loaded_doc)"
   ]
  },
  {
   "cell_type": "markdown",
   "id": "6189aaf4-2eb7-40bc-9e83-79ce4f221b4b",
   "metadata": {},
   "source": [
    "Define Global LLM + Embeddings"
   ]
  },
  {
   "cell_type": "code",
   "execution_count": null,
   "id": "4e56afdc",
   "metadata": {},
   "outputs": [],
   "source": [
    "import os\n",
    "\n",
    "os.environ[\"OPENAI_API_KEY\"] = \"sk-...\"\n",
    "\n",
    "import nest_asyncio\n",
    "\n",
    "nest_asyncio.apply()"
   ]
  },
  {
   "cell_type": "code",
   "execution_count": null,
   "id": "dd6e5e48-91b9-4701-a85d-d98c92323350",
   "metadata": {},
   "outputs": [],
   "source": [
    "from llama_index.llms.openai import OpenAI\n",
    "from llama_index.embeddings.openai import OpenAIEmbedding\n",
    "from llama_index.core import Settings\n",
    "\n",
    "llm = OpenAI(model=\"gpt-3.5-turbo\")\n",
    "Settings.llm = llm\n",
    "Settings.embed_model = OpenAIEmbedding(\n",
    "    model=\"text-embedding-3-small\", embed_batch_size=256\n",
    ")"
   ]
  },
  {
   "cell_type": "markdown",
   "id": "4eeef31a-fc25-4367-a5ba-945f81d04cf9",
   "metadata": {},
   "source": [
    "## Building Multi-Document Agents\n",
    "\n",
    "In this section we show you how to construct the multi-document agent. We first build a document agent for each document, and then define the top-level parent agent with an object index."
   ]
  },
  {
   "cell_type": "markdown",
   "id": "976cd798-2e8d-474c-922a-51b12c5c6f36",
   "metadata": {},
   "source": [
    "### Build Document Agent for each Document\n",
    "\n",
    "In this section we define \"document agents\" for each document.\n",
    "\n",
    "We define both a vector index (for semantic search) and summary index (for summarization) for each document. The two query engines are then converted into tools that are passed to an OpenAI function calling agent.\n",
    "\n",
    "This document agent can dynamically choose to perform semantic search or summarization within a given document.\n",
    "\n",
    "We create a separate document agent for each city."
   ]
  },
  {
   "cell_type": "code",
   "execution_count": null,
   "id": "eacdf3a7-cfe3-4c2b-9037-b28a065ed148",
   "metadata": {},
   "outputs": [],
   "source": [
    "from llama_index.agent.openai import OpenAIAgent\n",
    "from llama_index.core import (\n",
    "    load_index_from_storage,\n",
    "    StorageContext,\n",
    "    VectorStoreIndex,\n",
    ")\n",
    "from llama_index.core import SummaryIndex\n",
    "from llama_index.core.tools import QueryEngineTool, ToolMetadata\n",
    "from llama_index.core.node_parser import SentenceSplitter\n",
    "import os\n",
    "from tqdm.notebook import tqdm\n",
    "import pickle\n",
    "\n",
    "\n",
    "async def build_agent_per_doc(nodes, file_base):\n",
    "    print(file_base)\n",
    "\n",
    "    vi_out_path = f\"./data/llamaindex_docs/{file_base}\"\n",
    "    summary_out_path = f\"./data/llamaindex_docs/{file_base}_summary.pkl\"\n",
    "    if not os.path.exists(vi_out_path):\n",
    "        Path(\"./data/llamaindex_docs/\").mkdir(parents=True, exist_ok=True)\n",
    "        # build vector index\n",
    "        vector_index = VectorStoreIndex(nodes)\n",
    "        vector_index.storage_context.persist(persist_dir=vi_out_path)\n",
    "    else:\n",
    "        vector_index = load_index_from_storage(\n",
    "            StorageContext.from_defaults(persist_dir=vi_out_path),\n",
    "        )\n",
    "\n",
    "    # build summary index\n",
    "    summary_index = SummaryIndex(nodes)\n",
    "\n",
    "    # define query engines\n",
    "    vector_query_engine = vector_index.as_query_engine(llm=llm)\n",
    "    summary_query_engine = summary_index.as_query_engine(\n",
    "        response_mode=\"tree_summarize\", llm=llm\n",
    "    )\n",
    "\n",
    "    # extract a summary\n",
    "    if not os.path.exists(summary_out_path):\n",
    "        Path(summary_out_path).parent.mkdir(parents=True, exist_ok=True)\n",
    "        summary = str(\n",
    "            await summary_query_engine.aquery(\n",
    "                \"Extract a concise 1-2 line summary of this document\"\n",
    "            )\n",
    "        )\n",
    "        pickle.dump(summary, open(summary_out_path, \"wb\"))\n",
    "    else:\n",
    "        summary = pickle.load(open(summary_out_path, \"rb\"))\n",
    "\n",
    "    # define tools\n",
    "    query_engine_tools = [\n",
    "        QueryEngineTool(\n",
    "            query_engine=vector_query_engine,\n",
    "            metadata=ToolMetadata(\n",
    "                name=f\"vector_tool_{file_base}\",\n",
    "                description=f\"Useful for questions related to specific facts\",\n",
    "            ),\n",
    "        ),\n",
    "        QueryEngineTool(\n",
    "            query_engine=summary_query_engine,\n",
    "            metadata=ToolMetadata(\n",
    "                name=f\"summary_tool_{file_base}\",\n",
    "                description=f\"Useful for summarization questions\",\n",
    "            ),\n",
    "        ),\n",
    "    ]\n",
    "\n",
    "    # build agent\n",
    "    function_llm = OpenAI(model=\"gpt-4\")\n",
    "    agent = OpenAIAgent.from_tools(\n",
    "        query_engine_tools,\n",
    "        llm=function_llm,\n",
    "        verbose=True,\n",
    "        system_prompt=f\"\"\"\\\n",
    "You are a specialized agent designed to answer queries about the `{file_base}.html` part of the LlamaIndex docs.\n",
    "You must ALWAYS use at least one of the tools provided when answering a question; do NOT rely on prior knowledge.\\\n",
    "\"\"\",\n",
    "    )\n",
    "\n",
    "    return agent, summary\n",
    "\n",
    "\n",
    "async def build_agents(docs):\n",
    "    node_parser = SentenceSplitter()\n",
    "\n",
    "    # Build agents dictionary\n",
    "    agents_dict = {}\n",
    "    extra_info_dict = {}\n",
    "\n",
    "    # # this is for the baseline\n",
    "    # all_nodes = []\n",
    "\n",
    "    for idx, doc in enumerate(tqdm(docs)):\n",
    "        nodes = node_parser.get_nodes_from_documents([doc])\n",
    "        # all_nodes.extend(nodes)\n",
    "\n",
    "        # ID will be base + parent\n",
    "        file_path = Path(doc.metadata[\"path\"])\n",
    "        file_base = str(file_path.parent.stem) + \"_\" + str(file_path.stem)\n",
    "        agent, summary = await build_agent_per_doc(nodes, file_base)\n",
    "\n",
    "        agents_dict[file_base] = agent\n",
    "        extra_info_dict[file_base] = {\"summary\": summary, \"nodes\": nodes}\n",
    "\n",
    "    return agents_dict, extra_info_dict"
   ]
  },
  {
   "cell_type": "code",
   "execution_count": null,
   "id": "44748b46-dd6b-4d4f-bc70-7022ae96413f",
   "metadata": {},
   "outputs": [],
   "source": [
    "agents_dict, extra_info_dict = await build_agents(docs)"
   ]
  },
  {
   "cell_type": "markdown",
   "id": "899ca55b-0c02-429b-a765-8e4f806d503f",
   "metadata": {},
   "source": [
    "### Build Retriever-Enabled OpenAI Agent\n",
    "\n",
    "We build a top-level agent that can orchestrate across the different document agents to answer any user query.\n",
    "\n",
    "This `RetrieverOpenAIAgent` performs tool retrieval before tool use (unlike a default agent that tries to put all tools in the prompt).\n",
    "\n",
    "**Improvements from V0**: We make the following improvements compared to the \"base\" version in V0.\n",
    "\n",
    "- Adding in reranking: we use Cohere reranker to better filter the candidate set of documents.\n",
    "- Adding in a query planning tool: we add an explicit query planning tool that's dynamically created based on the set of retrieved tools.\n"
   ]
  },
  {
   "cell_type": "code",
   "execution_count": null,
   "id": "6884ff15-bf40-4bdd-a1e3-58cbd056a12a",
   "metadata": {},
   "outputs": [],
   "source": [
    "# define tool for each document agent\n",
    "all_tools = []\n",
    "for file_base, agent in agents_dict.items():\n",
    "    summary = extra_info_dict[file_base][\"summary\"]\n",
    "    doc_tool = QueryEngineTool(\n",
    "        query_engine=agent,\n",
    "        metadata=ToolMetadata(\n",
    "            name=f\"tool_{file_base}\",\n",
    "            description=summary,\n",
    "        ),\n",
    "    )\n",
    "    all_tools.append(doc_tool)"
   ]
  },
  {
   "cell_type": "code",
   "execution_count": null,
   "id": "346ed0e1-b96f-446b-a768-4f11a9a1a7f6",
   "metadata": {},
   "outputs": [
    {
     "name": "stdout",
     "output_type": "stream",
     "text": [
      "ToolMetadata(description='This document provides examples and documentation for an agent on the llama index platform.', name='tool_latest_index', fn_schema=<class 'llama_index.core.tools.types.DefaultToolFnSchema'>)\n"
     ]
    }
   ],
   "source": [
    "print(all_tools[0].metadata)"
   ]
  },
  {
   "cell_type": "code",
   "execution_count": null,
   "id": "b266ad43-c3fd-41cb-9e3b-4cb2bb2c2e5f",
   "metadata": {},
   "outputs": [],
   "source": [
    "# define an \"object\" index and retriever over these tools\n",
    "from llama_index.core import VectorStoreIndex\n",
    "from llama_index.core.objects import (\n",
    "    ObjectIndex,\n",
    "    ObjectRetriever,\n",
    ")\n",
    "from llama_index.postprocessor.cohere_rerank import CohereRerank\n",
    "from llama_index.core.query_engine import SubQuestionQueryEngine\n",
    "from llama_index.core.schema import QueryBundle\n",
    "from llama_index.llms.openai import OpenAI\n",
    "\n",
    "\n",
    "llm = OpenAI(model_name=\"gpt-4-0613\")\n",
    "\n",
    "obj_index = ObjectIndex.from_objects(\n",
    "    all_tools,\n",
    "    index_cls=VectorStoreIndex,\n",
    ")\n",
    "vector_node_retriever = obj_index.as_node_retriever(\n",
    "    similarity_top_k=10,\n",
    ")\n",
    "\n",
    "\n",
    "# define a custom object retriever that adds in a query planning tool\n",
    "class CustomObjectRetriever(ObjectRetriever):\n",
    "    def __init__(\n",
    "        self,\n",
    "        retriever,\n",
    "        object_node_mapping,\n",
    "        node_postprocessors=None,\n",
    "        llm=None,\n",
    "    ):\n",
    "        self._retriever = retriever\n",
    "        self._object_node_mapping = object_node_mapping\n",
    "        self._llm = llm or OpenAI(\"gpt-4-0613\")\n",
    "        self._node_postprocessors = node_postprocessors or []\n",
    "\n",
    "    def retrieve(self, query_bundle):\n",
    "        if isinstance(query_bundle, str):\n",
    "            query_bundle = QueryBundle(query_str=query_bundle)\n",
    "\n",
    "        nodes = self._retriever.retrieve(query_bundle)\n",
    "        for processor in self._node_postprocessors:\n",
    "            nodes = processor.postprocess_nodes(\n",
    "                nodes, query_bundle=query_bundle\n",
    "            )\n",
    "        tools = [self._object_node_mapping.from_node(n.node) for n in nodes]\n",
    "\n",
    "        sub_question_engine = SubQuestionQueryEngine.from_defaults(\n",
    "            query_engine_tools=tools, llm=self._llm\n",
    "        )\n",
    "        sub_question_description = f\"\"\"\\\n",
    "Useful for any queries that involve comparing multiple documents. ALWAYS use this tool for comparison queries - make sure to call this \\\n",
    "tool with the original query. Do NOT use the other tools for any queries involving multiple documents.\n",
    "\"\"\"\n",
    "        sub_question_tool = QueryEngineTool(\n",
    "            query_engine=sub_question_engine,\n",
    "            metadata=ToolMetadata(\n",
    "                name=\"compare_tool\", description=sub_question_description\n",
    "            ),\n",
    "        )\n",
    "\n",
    "        return tools + [sub_question_tool]"
   ]
  },
  {
   "cell_type": "code",
   "execution_count": null,
   "id": "0ba0d1a6-e324-4faa-b72b-d340904e65b2",
   "metadata": {},
   "outputs": [],
   "source": [
    "# wrap it with ObjectRetriever to return objects\n",
    "custom_obj_retriever = CustomObjectRetriever(\n",
    "    vector_node_retriever,\n",
    "    obj_index.object_node_mapping,\n",
    "    node_postprocessors=[CohereRerank(top_n=5)],\n",
    "    llm=llm,\n",
    ")"
   ]
  },
  {
   "cell_type": "code",
   "execution_count": null,
   "id": "8654ce2a-cce7-44fc-8445-8bbcfdf7ee91",
   "metadata": {},
   "outputs": [
    {
     "name": "stdout",
     "output_type": "stream",
     "text": [
      "6\n"
     ]
    }
   ],
   "source": [
    "tmps = custom_obj_retriever.retrieve(\"hello\")\n",
    "\n",
    "# should be 5 + 1 -- 5 from reranker, 1 from subquestion\n",
    "print(len(tmps))"
   ]
  },
  {
   "cell_type": "code",
   "execution_count": null,
   "id": "fed38942-1e37-4c61-89fa-d2ef41151831",
   "metadata": {},
   "outputs": [],
   "source": [
    "from llama_index.agent.openai import OpenAIAgent\n",
    "from llama_index.core.agent import ReActAgent\n",
    "\n",
    "top_agent = OpenAIAgent.from_tools(\n",
    "    tool_retriever=custom_obj_retriever,\n",
    "    system_prompt=\"\"\" \\\n",
    "You are an agent designed to answer queries about the documentation.\n",
    "Please always use the tools provided to answer a question. Do not rely on prior knowledge.\\\n",
    "\n",
    "\"\"\",\n",
    "    llm=llm,\n",
    "    verbose=True,\n",
    ")\n",
    "\n",
    "# top_agent = ReActAgent.from_tools(\n",
    "#     tool_retriever=custom_obj_retriever,\n",
    "#     system_prompt=\"\"\" \\\n",
    "# You are an agent designed to answer queries about the documentation.\n",
    "# Please always use the tools provided to answer a question. Do not rely on prior knowledge.\\\n",
    "\n",
    "# \"\"\",\n",
    "#     llm=llm,\n",
    "#     verbose=True,\n",
    "# )"
   ]
  },
  {
   "cell_type": "markdown",
   "id": "aa32b97c-6779-4b60-823d-6ca3be6f358a",
   "metadata": {},
   "source": [
    "### Define Baseline Vector Store Index\n",
    "\n",
    "As a point of comparison, we define a \"naive\" RAG pipeline which dumps all docs into a single vector index collection.\n",
    "\n",
    "We set the top_k = 4"
   ]
  },
  {
   "cell_type": "code",
   "execution_count": null,
   "id": "f2f54834-1597-46ce-b0d3-0456bfa0d368",
   "metadata": {},
   "outputs": [],
   "source": [
    "all_nodes = [\n",
    "    n for extra_info in extra_info_dict.values() for n in extra_info[\"nodes\"]\n",
    "]"
   ]
  },
  {
   "cell_type": "code",
   "execution_count": null,
   "id": "60dfc88f-6f47-4ef2-9ae6-74abde06a485",
   "metadata": {},
   "outputs": [],
   "source": [
    "base_index = VectorStoreIndex(all_nodes)\n",
    "base_query_engine = base_index.as_query_engine(similarity_top_k=4)"
   ]
  },
  {
   "cell_type": "markdown",
   "id": "8dedb927-a992-4f21-a0fb-4ce4361adcb3",
   "metadata": {},
   "source": [
    "## Running Example Queries\n",
    "\n",
    "Let's run some example queries, ranging from QA / summaries over a single document to QA / summarization over multiple documents."
   ]
  },
  {
   "cell_type": "code",
   "execution_count": null,
   "id": "8e743c62-7dd8-4ac9-85a5-f1cbc112a79c",
   "metadata": {},
   "outputs": [
    {
     "name": "stdout",
     "output_type": "stream",
     "text": [
      "Added user message to memory: What types of agents are available in LlamaIndex?\n",
      "=== Calling Function ===\n",
      "Calling function: tool_agents_index with args: {\"input\":\"types of agents\"}\n",
      "Added user message to memory: types of agents\n",
      "=== Calling Function ===\n",
      "Calling function: vector_tool_agents_index with args: {\n",
      "  \"input\": \"types of agents\"\n",
      "}\n",
      "Got output: The types of agents mentioned in the provided context are ReActAgent, Native OpenAIAgent, OpenAIAgent with Query Engine Tools, OpenAIAgent Query Planning, OpenAI Assistant, OpenAI Assistant Cookbook, Forced Function Calling, Parallel Function Calling, and Context Retrieval.\n",
      "========================\n",
      "\n",
      "Got output: The types of agents mentioned in the `agents_index.html` part of the LlamaIndex docs are:\n",
      "\n",
      "1. ReActAgent\n",
      "2. Native OpenAIAgent\n",
      "3. OpenAIAgent with Query Engine Tools\n",
      "4. OpenAIAgent Query Planning\n",
      "5. OpenAI Assistant\n",
      "6. OpenAI Assistant Cookbook\n",
      "7. Forced Function Calling\n",
      "8. Parallel Function Calling\n",
      "9. Context Retrieval\n",
      "========================\n",
      "\n"
     ]
    }
   ],
   "source": [
    "response = top_agent.query(\n",
    "    \"What types of agents are available in LlamaIndex?\",\n",
    ")"
   ]
  },
  {
   "cell_type": "code",
   "execution_count": null,
   "id": "a4ce2a76-5779-4acf-9337-69109dae7fd6",
   "metadata": {},
   "outputs": [
    {
     "name": "stdout",
     "output_type": "stream",
     "text": [
      "The types of agents available in LlamaIndex include ReActAgent, Native OpenAIAgent, OpenAIAgent with Query Engine Tools, OpenAIAgent Query Planning, OpenAI Assistant, OpenAI Assistant Cookbook, Forced Function Calling, Parallel Function Calling, and Context Retrieval.\n"
     ]
    }
   ],
   "source": [
    "print(response)"
   ]
  },
  {
   "cell_type": "code",
   "execution_count": null,
   "id": "af28b422-fb73-4b59-9e77-3ba3afa87795",
   "metadata": {},
   "outputs": [
    {
     "name": "stdout",
     "output_type": "stream",
     "text": [
      "The types of agents available in LlamaIndex are ReActAgent, Native OpenAIAgent, and OpenAIAgent.\n"
     ]
    }
   ],
   "source": [
    "# baseline\n",
    "response = base_query_engine.query(\n",
    "    \"What types of agents are available in LlamaIndex?\",\n",
    ")\n",
    "print(str(response))"
   ]
  },
  {
   "cell_type": "code",
   "execution_count": null,
   "id": "ee6ef20c-3ccc-46c3-ad87-667138d78d5d",
   "metadata": {},
   "outputs": [
    {
     "name": "stdout",
     "output_type": "stream",
     "text": [
      "Added user message to memory: Compare the content in the agents page vs. tools page.\n",
      "=== Calling Function ===\n",
      "Calling function: compare_tool with args: {\"input\":\"agents vs tools\"}\n",
      "Generated 2 sub questions.\n",
      "\u001b[1;3;38;2;237;90;200m[tool_understanding_index] Q: What are the functionalities of agents in the Llama Index platform?\n",
      "\u001b[0mAdded user message to memory: What are the functionalities of agents in the Llama Index platform?\n",
      "\u001b[1;3;38;2;90;149;237m[tool_understanding_index] Q: How do agents differ from tools in the Llama Index platform?\n",
      "\u001b[0mAdded user message to memory: How do agents differ from tools in the Llama Index platform?\n",
      "=== Calling Function ===\n",
      "Calling function: vector_tool_understanding_index with args: {\n",
      "  \"input\": \"difference between agents and tools\"\n",
      "}\n",
      "=== Calling Function ===\n",
      "Calling function: vector_tool_understanding_index with args: {\n",
      "  \"input\": \"functionalities of agents\"\n",
      "}\n",
      "Got output: Agents are typically individuals or entities that act on behalf of others, making decisions and taking actions based on predefined rules or instructions. On the other hand, tools are instruments or devices used to carry out specific functions or tasks, often under the control or direction of an agent.\n",
      "========================\n",
      "\n",
      "Got output: Agents typically have a range of functionalities that allow them to perform tasks autonomously or semi-autonomously. These functionalities may include data collection, analysis, decision-making, communication with other systems or users, and executing specific actions based on predefined rules or algorithms.\n",
      "========================\n",
      "\n",
      "\u001b[1;3;38;2;90;149;237m[tool_understanding_index] A: In the context of the Llama Index platform, agents are entities that make decisions and take actions based on predefined rules or instructions. They are designed to interact with users, understand their queries, and provide appropriate responses. \n",
      "\n",
      "On the other hand, tools are instruments or devices that are used to perform specific functions or tasks. They are typically controlled or directed by an agent and do not make decisions on their own. They are used to assist the agents in providing accurate and relevant responses to user queries.\n",
      "\u001b[0m\u001b[1;3;38;2;237;90;200m[tool_understanding_index] A: In the Llama Index platform, agents have a variety of functionalities. They can perform tasks autonomously or semi-autonomously. These tasks include data collection and analysis, making decisions, communicating with other systems or users, and executing specific actions. These actions are based on predefined rules or algorithms.\n",
      "\u001b[0mGot output: Agents in the Llama Index platform are responsible for making decisions and taking actions based on predefined rules or instructions. They interact with users, understand queries, and provide appropriate responses. On the other hand, tools in the platform are instruments or devices used to perform specific functions or tasks. Unlike agents, tools are typically controlled or directed by an agent and do not make decisions independently. Their role is to assist agents in delivering accurate and relevant responses to user queries.\n",
      "========================\n",
      "\n"
     ]
    }
   ],
   "source": [
    "response = top_agent.query(\n",
    "    \"Compare the content in the agents page vs. tools page.\"\n",
    ")"
   ]
  },
  {
   "cell_type": "code",
   "execution_count": null,
   "id": "cfe1dd4c-8bfd-43d0-99bc-ca60861dc418",
   "metadata": {},
   "outputs": [
    {
     "name": "stdout",
     "output_type": "stream",
     "text": [
      "The comparison between the content in the agents page and the tools page highlights the difference in their roles and functionalities. Agents on the Llama Index platform are responsible for decision-making and interacting with users, while tools are instruments used to perform specific functions or tasks, controlled by agents to assist in providing responses.\n"
     ]
    }
   ],
   "source": [
    "print(response)"
   ]
  },
  {
   "cell_type": "code",
   "execution_count": null,
   "id": "a8d97266-8e22-43a8-adfe-b9a7f833c06d",
   "metadata": {},
   "outputs": [
    {
     "name": "stdout",
     "output_type": "stream",
     "text": [
      "Added user message to memory: Can you compare the compact and tree_summarize response synthesizer response modes at a very high-level?\n",
      "=== Calling Function ===\n",
      "Calling function: compare_tool with args: {\"input\":\"Compare the compact and tree_summarize response synthesizer response modes at a very high-level.\"}\n",
      "Generated 4 sub questions.\n",
      "\u001b[1;3;38;2;237;90;200m[tool_querying_index] Q: What are the key differences between the compact and tree_summarize response synthesizer response modes?\n",
      "\u001b[0mAdded user message to memory: What are the key differences between the compact and tree_summarize response synthesizer response modes?\n",
      "\u001b[1;3;38;2;90;149;237m[tool_querying_index] Q: How does the compact response synthesizer response mode optimize query logic and response quality?\n",
      "\u001b[0mAdded user message to memory: How does the compact response synthesizer response mode optimize query logic and response quality?\n",
      "\u001b[1;3;38;2;11;159;203m[tool_querying_index] Q: How does the tree_summarize response synthesizer response mode optimize query logic and response quality?\n",
      "\u001b[0mAdded user message to memory: How does the tree_summarize response synthesizer response mode optimize query logic and response quality?\n",
      "\u001b[1;3;38;2;155;135;227m[tool_evaluating_index] Q: What are the guidelines for evaluating retrievals in the context of response synthesizer response modes?\n",
      "\u001b[0mAdded user message to memory: What are the guidelines for evaluating retrievals in the context of response synthesizer response modes?\n",
      "=== Calling Function ===\n",
      "Calling function: vector_tool_querying_index with args: {\n",
      "  \"input\": \"compact response synthesizer response mode\"\n",
      "}\n",
      "=== Calling Function ===\n",
      "Calling function: summary_tool_querying_index with args: {\n",
      "  \"input\": \"tree_summarize response synthesizer response mode\"\n",
      "}\n",
      "=== Calling Function ===\n",
      "Calling function: vector_tool_querying_index with args: {\n",
      "  \"input\": \"compact vs tree_summarize response synthesizer response modes\"\n",
      "}\n",
      "=== Calling Function ===\n",
      "Calling function: vector_tool_evaluating_index with args: {\n",
      "  \"input\": \"evaluating retrievals response synthesizer response modes\"\n",
      "}\n",
      "Got output: The response modes for the response synthesizer include \"compact\" and \"tree_summarize\".\n",
      "========================\n",
      "\n",
      "Got output: The response mode \"tree_summarize\" in the response synthesizer configures the system to recursively construct a tree from a set of Node objects and the query, returning the root node as the final response. This mode is particularly useful for summarization purposes.\n",
      "========================\n",
      "\n",
      "Got output: \"compact\" the prompt during each LLM call by stuffing as many Node text chunks that can fit within the maximum prompt size. If there are too many chunks to stuff in one prompt, \"create and refine\" an answer by going through multiple prompts.\n",
      "========================\n",
      "\n",
      "=== Calling Function ===\n",
      "Calling function: summary_tool_querying_index with args: {\n",
      "  \"input\": \"compact vs tree_summarize response synthesizer response modes\"\n",
      "}\n",
      "Got output: Response synthesizer response modes can be evaluated by comparing what was retrieved for a query to a set of nodes that were expected to be retrieved. This evaluation process typically involves analyzing metrics such as Mean Reciprocal Rank (MRR) and Hit Rate. It is important to evaluate a batch of retrievals to get a comprehensive understanding of the performance. If you are making calls to a hosted, remote LLM, you may also want to consider analyzing the cost implications of your application.\n",
      "========================\n",
      "\n",
      "Got output: The response modes for the response synthesizer include \"compact\" and \"tree_summarize\".\n",
      "========================\n",
      "\n",
      "\u001b[1;3;38;2;90;149;237m[tool_querying_index] A: The compact response synthesizer response mode optimizes query logic and response quality by compacting the prompt during each LLM call. It does this by stuffing as many Node text chunks that can fit within the maximum prompt size. If there are too many chunks to fit in one prompt, it will \"create and refine\" an answer by going through multiple prompts. This approach allows for a more efficient use of the prompt space and can lead to more refined and accurate responses.\n",
      "\u001b[0m\u001b[1;3;38;2;11;159;203m[tool_querying_index] A: The \"tree_summarize\" response synthesizer response mode optimizes query logic and response quality by recursively constructing a tree from a set of Node objects and the query. This approach allows the system to handle complex queries and generate comprehensive responses. The root node, which is returned as the final response, contains a summarized version of the information, making it easier for users to understand the response. This mode is particularly useful for summarization purposes, where the goal is to provide a concise yet comprehensive answer to a query.\n",
      "\u001b[0m\u001b[1;3;38;2;155;135;227m[tool_evaluating_index] A: When evaluating retrievals in the context of response synthesizer response modes, you should compare what was retrieved for a query to a set of nodes that were expected to be retrieved. This evaluation process typically involves analyzing metrics such as Mean Reciprocal Rank (MRR) and Hit Rate. It's crucial to evaluate a batch of retrievals to get a comprehensive understanding of the performance. If you are making calls to a hosted, remote LLM, you may also want to consider analyzing the cost implications of your application.\n",
      "\u001b[0m\u001b[1;3;38;2;237;90;200m[tool_querying_index] A: The \"compact\" and \"tree_summarize\" are two different response modes for the response synthesizer in LlamaIndex. \n",
      "\n",
      "The \"compact\" mode provides a more concise response, focusing on delivering the most relevant information in a compact format. This mode is useful when you want a brief and direct answer to your query.\n",
      "\n",
      "On the other hand, the \"tree_summarize\" mode provides a more detailed and structured response. It breaks down the information into a tree-like structure, making it easier to understand the relationships and hierarchy of the information. This mode is useful when you want a comprehensive understanding of the query topic.\n",
      "\u001b[0mGot output: The \"compact\" response synthesizer mode focuses on providing a concise and direct response, while the \"tree_summarize\" mode offers a more detailed and structured response by breaking down information into a tree-like structure. The compact mode aims to deliver the most relevant information in a compact format, suitable for brief answers, whereas the tree_summarize mode is designed to provide a comprehensive understanding of the query topic by presenting information in a hierarchical manner.\n",
      "========================\n",
      "\n"
     ]
    }
   ],
   "source": [
    "response = top_agent.query(\n",
    "    \"Can you compare the compact and tree_summarize response synthesizer response modes at a very high-level?\"\n",
    ")"
   ]
  },
  {
   "cell_type": "code",
   "execution_count": null,
   "id": "7401a80c-3cc7-4c72-9c45-82ffc1bd6816",
   "metadata": {},
   "outputs": [
    {
     "name": "stdout",
     "output_type": "stream",
     "text": [
      "The \"compact\" response synthesizer mode provides concise and direct responses, while the \"tree_summarize\" mode offers detailed and structured responses in a tree-like format. The compact mode is suitable for brief answers, while the tree_summarize mode presents information hierarchically for a comprehensive understanding of the query topic.\n"
     ]
    }
   ],
   "source": [
    "print(str(response))"
   ]
  }
 ],
 "metadata": {
  "kernelspec": {
   "display_name": ".venv",
   "language": "python",
   "name": "python3"
  },
  "language_info": {
   "codemirror_mode": {
    "name": "ipython",
    "version": 3
   },
   "file_extension": ".py",
   "mimetype": "text/x-python",
   "name": "python",
   "nbconvert_exporter": "python",
   "pygments_lexer": "ipython3"
  }
 },
 "nbformat": 4,
 "nbformat_minor": 5
}
