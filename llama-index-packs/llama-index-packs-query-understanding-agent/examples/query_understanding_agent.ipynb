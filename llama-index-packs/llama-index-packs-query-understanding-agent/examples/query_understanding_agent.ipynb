{
 "cells": [
  {
   "cell_type": "markdown",
   "metadata": {},
   "source": [
    "# Query Understanding Agent LlamaPack\n",
    "\n",
    "<a href=\"https://colab.research.google.com/github/run-llama/llama_index/blob/main/llama-index-packs/llama-index-packs-query-understanding-agent/examples/query_understanding_agent.ipynb\" target=\"_parent\"><img src=\"https://colab.research.google.com/assets/colab-badge.svg\" alt=\"Open In Colab\"/></a>\n",
    "\n",
    "This notebook shows you how to use our Query Understanding Agent LlamaPack.\n",
    "\n",
    "This is a template showing you how to build an agent that can explicitly trigger a call for human intervention. In this specific agent, human intervention is triggered if the input query is not clear.\n",
    "\n",
    "This is determined by having the agent pick a given tool using our `RouterQueryEngine`, getting back the response, and then using the response and tools to determine whether the question itself is clear.\n",
    "\n",
    "If human intervention is needed, then a `HumanInputRequiredException` is thrown. We have an example showing how to use this exception to seek for additional human input/query clarification."
   ]
  },
  {
   "cell_type": "code",
   "execution_count": null,
   "metadata": {},
   "outputs": [
    {
     "data": {
      "text/plain": [
       "True"
      ]
     },
     "execution_count": null,
     "metadata": {},
     "output_type": "execute_result"
    }
   ],
   "source": [
    "from dotenv import load_dotenv\n",
    "\n",
    "load_dotenv()"
   ]
  },
  {
   "cell_type": "markdown",
   "metadata": {},
   "source": [
    "## Grab Data"
   ]
  },
  {
   "cell_type": "code",
   "execution_count": null,
   "metadata": {},
   "outputs": [
    {
     "name": "stdout",
     "output_type": "stream",
     "text": [
      "--2024-03-07 21:54:37--  https://raw.githubusercontent.com/run-llama/llama_index/main/docs/examples/data/paul_graham/paul_graham_essay.txt\n",
      "Resolving raw.githubusercontent.com (raw.githubusercontent.com)... 2606:50c0:8000::154, 2606:50c0:8001::154, 2606:50c0:8002::154, ...\n",
      "Connecting to raw.githubusercontent.com (raw.githubusercontent.com)|2606:50c0:8000::154|:443... connected.\n",
      "HTTP request sent, awaiting response... 200 OK\n",
      "Length: 75042 (73K) [text/plain]\n",
      "Saving to: ‘data/paul_graham/paul_graham_essay.txt’\n",
      "\n",
      "data/paul_graham/pa 100%[===================>]  73.28K  --.-KB/s    in 0.01s   \n",
      "\n",
      "2024-03-07 21:54:37 (5.91 MB/s) - ‘data/paul_graham/paul_graham_essay.txt’ saved [75042/75042]\n",
      "\n"
     ]
    }
   ],
   "source": [
    "!mkdir -p 'data/paul_graham/'\n",
    "!wget 'https://raw.githubusercontent.com/run-llama/llama_index/main/docs/examples/data/paul_graham/paul_graham_essay.txt' -O 'data/paul_graham/paul_graham_essay.txt'"
   ]
  },
  {
   "cell_type": "code",
   "execution_count": null,
   "metadata": {},
   "outputs": [],
   "source": [
    "steve_jobs_text = \"\"\"1995 was the year when Steve Jobs was approaching the end of his exile from Apple after being kicked out of the company a decade earlier. Him as his new company, NeXT, were brought back in to save Apple from near bankruptcy.Jul 25, 2018\"\"\""
   ]
  },
  {
   "cell_type": "markdown",
   "metadata": {},
   "source": [
    "## Load Data"
   ]
  },
  {
   "cell_type": "code",
   "execution_count": null,
   "metadata": {},
   "outputs": [],
   "source": [
    "from llama_index.core import SimpleDirectoryReader, VectorStoreIndex\n",
    "from llama_index.core.response.pprint_utils import pprint_response\n",
    "from llama_index.llms.openai import OpenAI\n",
    "from llama_index.core.schema import Document\n",
    "\n",
    "# Tool 1\n",
    "llm = OpenAI()\n",
    "data = SimpleDirectoryReader(input_dir=\"./data/paul_graham/\").load_data()\n",
    "index = VectorStoreIndex.from_documents(data)\n",
    "\n",
    "# Tool 2\n",
    "steve_index = VectorStoreIndex.from_documents([Document(text=steve_jobs_text)])"
   ]
  },
  {
   "cell_type": "markdown",
   "metadata": {},
   "source": [
    "## Agents"
   ]
  },
  {
   "cell_type": "code",
   "execution_count": null,
   "metadata": {},
   "outputs": [],
   "source": [
    "from llama_index.core.agent import AgentRunner\n",
    "from llama_index.packs.query_understanding_agent.step import (\n",
    "    QueryUnderstandingAgentWorker,\n",
    "    HumanInputRequiredException,\n",
    ")\n",
    "from llama_index.core.tools import QueryEngineTool\n",
    "\n",
    "llm = OpenAI(model=\"gpt-4\")\n",
    "\n",
    "tools = [\n",
    "    QueryEngineTool.from_defaults(\n",
    "        query_engine=index.as_query_engine(),\n",
    "        description=\"A tool that is useful for retrieving specific snippets from the Paul Graham's life\",\n",
    "    ),\n",
    "    QueryEngineTool.from_defaults(\n",
    "        query_engine=steve_index.as_query_engine(),\n",
    "        description=\"A tool that is useful for retrieving specific snippets from the Steve Jobs's life\",\n",
    "    ),\n",
    "]"
   ]
  },
  {
   "cell_type": "markdown",
   "metadata": {},
   "source": [
    "## Baseline"
   ]
  },
  {
   "cell_type": "markdown",
   "metadata": {},
   "source": [
    "This does not programmatically pause to detect ambiguity to allow user to provide input. Not only that, sometimes this hallucinate to a random subject."
   ]
  },
  {
   "cell_type": "code",
   "execution_count": null,
   "metadata": {},
   "outputs": [
    {
     "name": "stdout",
     "output_type": "stream",
     "text": [
      "\u001b[1;3;38;5;200mThought: The user is asking about the author but hasn't specified which author. I have tools to query information about Paul Graham and Steve Jobs. I need to ask the user to specify the author.\n",
      "\n",
      "Action: None\n",
      "Answer: Could you please specify which author you are referring to? I have information about Paul Graham and Steve Jobs.\n",
      "\u001b[0m"
     ]
    }
   ],
   "source": [
    "from llama_index.core.agent import ReActAgentWorker\n",
    "\n",
    "callback_manager = llm.callback_manager\n",
    "agent_worker = ReActAgentWorker.from_tools(\n",
    "    tools,\n",
    "    llm=llm,\n",
    "    verbose=True,\n",
    "    callback_manager=callback_manager,\n",
    ")\n",
    "agent = AgentRunner(agent_worker, callback_manager=callback_manager)\n",
    "orig_question = \"What did the author do in the summer of 1995?\"\n",
    "response = agent.chat(orig_question)"
   ]
  },
  {
   "cell_type": "markdown",
   "metadata": {},
   "source": [
    "## Query Understanding Agent Worker"
   ]
  },
  {
   "cell_type": "markdown",
   "metadata": {},
   "source": [
    "This allows the agent to ask user for clarification if the user query is unclear"
   ]
  },
  {
   "cell_type": "code",
   "execution_count": null,
   "metadata": {},
   "outputs": [],
   "source": [
    "# from llama_index.core.agent import ReActAgentWorker\n",
    "callback_manager = llm.callback_manager\n",
    "agent_worker = QueryUnderstandingAgentWorker.from_tools(\n",
    "    tools,\n",
    "    llm=llm,\n",
    "    callback_manager=callback_manager,\n",
    ")\n",
    "agent = AgentRunner(agent_worker, callback_manager=callback_manager)"
   ]
  },
  {
   "cell_type": "code",
   "execution_count": null,
   "metadata": {},
   "outputs": [
    {
     "name": "stdout",
     "output_type": "stream",
     "text": [
      "response: In the summer of 1995, Steve Jobs was involved in the process of returning to Apple after his departure from the company a decade earlier.\n"
     ]
    }
   ],
   "source": [
    "# from llama_index.llms.openai import OpenAI\n",
    "\n",
    "orig_question = \"what did he do in the summer of 1995?\"\n",
    "llm = OpenAI(model=\"gpt-4\")\n",
    "clarifying_questions = []\n",
    "\n",
    "try:\n",
    "    response = agent.chat(orig_question)\n",
    "except HumanInputRequiredException as e:\n",
    "    response = input(e.message)\n",
    "    clarifying_questions.append((e.message, response))\n",
    "    should_end = False\n",
    "    while not should_end:\n",
    "        clarifying_texts = \"\\n\".join(\n",
    "            [\n",
    "                f\"\"\"\n",
    "   Q: {question}\n",
    "   A: {answer}\n",
    "        \"\"\"\n",
    "                for question, answer in clarifying_questions\n",
    "            ]\n",
    "        )\n",
    "        query_text = f\"\"\"\n",
    "Given a query and a set of clarifying questions, please rewrite the query to be more clear.\n",
    "Example:\n",
    "Q: What trajectory is the monthly earning from the three months: April, May and June?\n",
    "Clarifying Questions:\n",
    "   Q: What year are you referring to?\n",
    "   A: In 2022\n",
    "   Q: What company are you referring to?\n",
    "   A: Uber\n",
    "Rewrite: What was the trajectory of Uber's monthly earnings for the months of April, May, and June in 2022?\n",
    "\n",
    "Q:{orig_question}\n",
    "Clarifying Questions: {clarifying_texts}\n",
    "Rewrite: \"\"\"\n",
    "        rewrite_response = llm.complete(query_text)\n",
    "        orig_question = rewrite_response\n",
    "        try:\n",
    "            output = agent.chat(rewrite_response.text)\n",
    "            should_end = True\n",
    "            print(f\"response: {output.response}\")\n",
    "        except HumanInputRequiredException as er:\n",
    "            response = input(er.message)\n",
    "            clarifying_questions.append((er.message, response))"
   ]
  }
 ],
 "metadata": {
  "kernelspec": {
   "display_name": "Python 3 (ipykernel)",
   "language": "python",
   "name": "python3"
  },
  "language_info": {
   "codemirror_mode": {
    "name": "ipython",
    "version": 3
   },
   "file_extension": ".py",
   "mimetype": "text/x-python",
   "name": "python",
   "nbconvert_exporter": "python",
   "pygments_lexer": "ipython3"
  }
 },
 "nbformat": 4,
 "nbformat_minor": 4
}
